{
  "nbformat": 4,
  "nbformat_minor": 0,
  "metadata": {
    "colab": {
      "name": "Control Statement",
      "provenance": [],
      "authorship_tag": "ABX9TyMMjbAXie/XyNylGntt2lnG",
      "include_colab_link": true
    },
    "kernelspec": {
      "name": "python3",
      "display_name": "Python 3"
    },
    "language_info": {
      "name": "python"
    }
  },
  "cells": [
    {
      "cell_type": "markdown",
      "metadata": {
        "id": "view-in-github",
        "colab_type": "text"
      },
      "source": [
        "<a href=\"https://colab.research.google.com/github/Hemanth-046/Python_Practice/blob/main/Control_Statement.ipynb\" target=\"_parent\"><img src=\"https://colab.research.google.com/assets/colab-badge.svg\" alt=\"Open In Colab\"/></a>"
      ]
    },
    {
      "cell_type": "markdown",
      "source": [
        ""
      ],
      "metadata": {
        "id": "5kpGZVPeeJe5"
      }
    },
    {
      "cell_type": "code",
      "source": [
        "#22-03-2022(Tuesday)\n",
        "#1)greatest of 3 numbers\n",
        "#2)eligible to vote\n",
        "#3)subject marks , sum , average , percentage\n",
        "#4)types of triangle\n"
      ],
      "metadata": {
        "id": "Ku71MmgEdgmQ"
      },
      "execution_count": null,
      "outputs": []
    },
    {
      "cell_type": "code",
      "source": [
        "#greatest of 3 numbers\n",
        "(a,b,c)=(int(input()),int(input()),int(input()))\n",
        "if c<a>b:\n",
        "        print(\"A is Greater\")\n",
        "if a<b>c:\n",
        "        print(\"B is Greater\")\n",
        "else:\n",
        "        print(\"C is Greater\")3"
      ],
      "metadata": {
        "colab": {
          "base_uri": "https://localhost:8080/"
        },
        "id": "OtbqOHXaRm7w",
        "outputId": "eeea750f-2a2a-49d4-a200-286c72451c3c"
      },
      "execution_count": null,
      "outputs": [
        {
          "output_type": "stream",
          "name": "stdout",
          "text": [
            "2\n",
            "3\n",
            "4\n",
            "C is Greater\n"
          ]
        }
      ]
    },
    {
      "cell_type": "code",
      "source": [
        "#eligible to vote\n",
        "a=int(input())\n",
        "if a>=18:\n",
        "    print(\"eligible to vote\")\n",
        "else:\n",
        "    print(\"not eligible to vote\")"
      ],
      "metadata": {
        "colab": {
          "base_uri": "https://localhost:8080/"
        },
        "id": "dM8-GnG0aDBQ",
        "outputId": "943b7587-9c12-412d-dd20-507cb2a6fb5a"
      },
      "execution_count": 20,
      "outputs": [
        {
          "output_type": "stream",
          "name": "stdout",
          "text": [
            "20\n",
            "eligible to vote\n"
          ]
        }
      ]
    },
    {
      "cell_type": "code",
      "source": [
        "#subject marks , sum , average , percentage\n",
        "(a,b,c,d,e)=(int(input()),int(input()),int(input()),int(input()),int(input()))\n",
        "\n",
        "sum=a+b+c+d+e\n",
        "print(int(sum))\n",
        "avg=sum/5\n",
        "print(int(avg))\n",
        "per=(sum/500)*100\n",
        "print(int(per))\n"
      ],
      "metadata": {
        "colab": {
          "base_uri": "https://localhost:8080/"
        },
        "id": "gBbWk9eRaVow",
        "outputId": "920ab9f3-ca10-455e-8651-6caa3cfb15d5"
      },
      "execution_count": 22,
      "outputs": [
        {
          "output_type": "stream",
          "name": "stdout",
          "text": [
            "100\n",
            "100\n",
            "100\n",
            "100\n",
            "100\n",
            "500\n",
            "100\n",
            "100\n"
          ]
        }
      ]
    },
    {
      "cell_type": "code",
      "source": [
        "#types of triangle\n",
        "(a,b,c)=(int(input()),int(input()),int(input()))\n",
        "if a==b==c:\n",
        "  print(\"the given triangle is equilateral triangle\")\n",
        "if a==b!=c or c==b!=a or a==c!=b:\n",
        "  print(\"the given triangle is isocles triangle\")\n",
        "if a!=b!=c:\n",
        "  print(\"the given triangle is scalar triangle\")"
      ],
      "metadata": {
        "colab": {
          "base_uri": "https://localhost:8080/"
        },
        "id": "pnQ9zmlFbiOg",
        "outputId": "cabd665a-50f2-4281-d86f-5da0ae98c217"
      },
      "execution_count": 31,
      "outputs": [
        {
          "output_type": "stream",
          "name": "stdout",
          "text": [
            "2\n",
            "3\n",
            "6\n",
            "the given triangle is scalar triangle\n"
          ]
        }
      ]
    }
  ]
}