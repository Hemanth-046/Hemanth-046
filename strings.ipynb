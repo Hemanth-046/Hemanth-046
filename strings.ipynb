{
  "nbformat": 4,
  "nbformat_minor": 0,
  "metadata": {
    "colab": {
      "name": "strings.ipynb",
      "provenance": [],
      "authorship_tag": "ABX9TyNt+fYcqZGjvN3c8HH/5qEh",
      "include_colab_link": true
    },
    "kernelspec": {
      "name": "python3",
      "display_name": "Python 3"
    },
    "language_info": {
      "name": "python"
    }
  },
  "cells": [
    {
      "cell_type": "markdown",
      "metadata": {
        "id": "view-in-github",
        "colab_type": "text"
      },
      "source": [
        "<a href=\"https://colab.research.google.com/github/Hemanth-046/Python_Practice/blob/main/strings.ipynb\" target=\"_parent\"><img src=\"https://colab.research.google.com/assets/colab-badge.svg\" alt=\"Open In Colab\"/></a>"
      ]
    },
    {
      "cell_type": "code",
      "execution_count": null,
      "metadata": {
        "colab": {
          "base_uri": "https://localhost:8080/"
        },
        "id": "zaU1Yi3_AMxr",
        "outputId": "7943fa60-c964-41e4-d268-6acc00803bf8"
      },
      "outputs": [
        {
          "output_type": "stream",
          "name": "stdout",
          "text": [
            "m\n",
            "H\n",
            "e\n",
            "m\n",
            "a\n",
            "n\n",
            "t\n",
            "h\n",
            "52\n",
            "True\n"
          ]
        }
      ],
      "source": [
        "a = \" I am Hemanth , doing my B.Tech in Gitam University \"\n",
        "print(a[8])\n",
        "for x in \"Hemanth\":\n",
        "  print(x)\n",
        "print(len(a))\n",
        "print(\"B.Tech\" in a)"
      ]
    },
    {
      "cell_type": "code",
      "source": [
        "#slicing of a String\n",
        "a = \"I went to 3Idiots movie \"\n",
        "b = \"with my friends \"\n",
        "c = a+b\n",
        "print(a[0:2])\n",
        "print(a[2:6])\n",
        "print(a[7:10])\n",
        "print(a[11:18])\n",
        "print(a[18:24])\n",
        "print(a[0:-1])\n",
        "print(a[:10])\n",
        "\n",
        "#length of string\n",
        "print(len(a))\n",
        "\n",
        "#upper case and lower cses\n",
        "print(a.upper())\n",
        "print(a.lower())\n",
        "\n",
        "#replacing\n",
        "print(a.replace(\"3Idiots\", \"RRR\"))\n",
        "\n",
        "#String Concatenation\n",
        "print(c)"
      ],
      "metadata": {
        "colab": {
          "base_uri": "https://localhost:8080/"
        },
        "id": "2jKwkv4oC2Jo",
        "outputId": "4bf69b94-4635-4959-eae7-10979b814f06"
      },
      "execution_count": null,
      "outputs": [
        {
          "output_type": "stream",
          "name": "stdout",
          "text": [
            "I \n",
            "went\n",
            "to \n",
            "Idiots \n",
            "movie \n",
            "I went to 3Idiots movie\n",
            "I went to \n",
            "24\n",
            "I WENT TO 3IDIOTS MOVIE \n",
            "i went to 3idiots movie \n",
            "I went to RRR movie \n",
            "I went to 3Idiots movie with my friends \n"
          ]
        }
      ]
    },
    {
      "cell_type": "code",
      "source": [
        ""
      ],
      "metadata": {
        "id": "0ImYlbJ5Mjrn"
      },
      "execution_count": null,
      "outputs": []
    }
  ]
}