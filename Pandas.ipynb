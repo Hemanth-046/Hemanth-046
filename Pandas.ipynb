{
 "cells": [
  {
   "cell_type": "code",
   "execution_count": 3,
   "id": "460f114e",
   "metadata": {},
   "outputs": [
    {
     "name": "stdout",
     "output_type": "stream",
     "text": [
      "Requirement already satisfied: pandas in c:\\users\\cse22004\\anaconda3\\lib\\site-packages (1.3.4)\n",
      "Requirement already satisfied: python-dateutil>=2.7.3 in c:\\users\\cse22004\\anaconda3\\lib\\site-packages (from pandas) (2.8.2)\n",
      "Requirement already satisfied: pytz>=2017.3 in c:\\users\\cse22004\\anaconda3\\lib\\site-packages (from pandas) (2021.3)\n",
      "Requirement already satisfied: numpy>=1.17.3 in c:\\users\\cse22004\\anaconda3\\lib\\site-packages (from pandas) (1.20.3)\n",
      "Requirement already satisfied: six>=1.5 in c:\\users\\cse22004\\anaconda3\\lib\\site-packages (from python-dateutil>=2.7.3->pandas) (1.16.0)\n",
      "Note: you may need to restart the kernel to use updated packages.\n"
     ]
    }
   ],
   "source": [
    "pip install pandas"
   ]
  },
  {
   "cell_type": "code",
   "execution_count": 5,
   "id": "eec19b5b",
   "metadata": {},
   "outputs": [
    {
     "name": "stdout",
     "output_type": "stream",
     "text": [
      "     order  price\n",
      "0      Veg    500\n",
      "1  Non-Veg    700\n",
      "2  Bevrage    200\n"
     ]
    }
   ],
   "source": [
    "import pandas as a\n",
    "c = {\n",
    "  'order': [\"Veg\", \"Non-Veg\", \"Bevrage\"],\n",
    "  'price': [500, 700, 200]\n",
    "}\n",
    "b = a.DataFrame(c)\n",
    "print(b)"
   ]
  },
  {
   "cell_type": "code",
   "execution_count": 11,
   "id": "3a75c26f",
   "metadata": {},
   "outputs": [
    {
     "name": "stdout",
     "output_type": "stream",
     "text": [
      "   S.no     Name  Age Gender\n",
      "0     1    Venky   50   Male\n",
      "1     2    Murli   45   Male\n",
      "2     3  Suhruth   40   Male\n",
      "3     4  Hemanth   17   Male\n"
     ]
    }
   ],
   "source": [
    "import pandas as a\n",
    "b = a.read_csv('E:\\\\Data.CSV')\n",
    "print(b) \n"
   ]
  },
  {
   "cell_type": "code",
   "execution_count": 17,
   "id": "de8606ba",
   "metadata": {},
   "outputs": [
    {
     "name": "stdout",
     "output_type": "stream",
     "text": [
      "0    1\n",
      "1    4\n",
      "2    3\n",
      "dtype: int64\n"
     ]
    }
   ],
   "source": [
    "import pandas as a\n",
    "b = [1,4,3]\n",
    "c = a.Series(b)\n",
    "print(c)"
   ]
  },
  {
   "cell_type": "code",
   "execution_count": 21,
   "id": "725b88fd",
   "metadata": {},
   "outputs": [
    {
     "name": "stdout",
     "output_type": "stream",
     "text": [
      "      Name  Age Gender\n",
      "0    Venky   50   Male\n",
      "1   Suhrut   45   Male\n",
      "2    Murli   40   Male\n",
      "3  Hemanth   17   Male\n"
     ]
    }
   ],
   "source": [
    "import pandas as a\n",
    "c = {\n",
    "  'Name': [\"Venky\", \"Suhrut\", \"Murli\", \"Hemanth\"],\n",
    "  'Age': [50, 45, 40, 17],\n",
    "  'Gender': [\"Male\", \"Male\", \"Male\", \"Male\"],\n",
    "}\n",
    "b = a.DataFrame(c)\n",
    "print(b)"
   ]
  },
  {
   "cell_type": "code",
   "execution_count": null,
   "id": "0850f374",
   "metadata": {},
   "outputs": [],
   "source": []
  }
 ],
 "metadata": {
  "kernelspec": {
   "display_name": "Python 3 (ipykernel)",
   "language": "python",
   "name": "python3"
  },
  "language_info": {
   "codemirror_mode": {
    "name": "ipython",
    "version": 3
   },
   "file_extension": ".py",
   "mimetype": "text/x-python",
   "name": "python",
   "nbconvert_exporter": "python",
   "pygments_lexer": "ipython3",
   "version": "3.9.7"
  }
 },
 "nbformat": 4,
 "nbformat_minor": 5
}
