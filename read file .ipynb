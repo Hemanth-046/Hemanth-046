{
 "cells": [
  {
   "cell_type": "code",
   "execution_count": 6,
   "id": "e203565d",
   "metadata": {},
   "outputs": [
    {
     "name": "stdout",
     "output_type": "stream",
     "text": [
      "suhruth oka pedha ........ manishi \n",
      "\n"
     ]
    }
   ],
   "source": [
    "#reading a file\n",
    "f = open(\"D:\\\\sample.txt\",\"r\")\n",
    "print(f.read())"
   ]
  },
  {
   "cell_type": "code",
   "execution_count": 11,
   "id": "00eb6cbd",
   "metadata": {},
   "outputs": [
    {
     "name": "stdout",
     "output_type": "stream",
     "text": [
      "suhruth\n",
      " oka pedha \n"
     ]
    }
   ],
   "source": [
    "#reading a file upto a certain limit\n",
    "f = open(\"D:\\\\sample.txt\",\"r\")\n",
    "print(f.read(7))\n",
    "print(f.read(11))"
   ]
  },
  {
   "cell_type": "code",
   "execution_count": 14,
   "id": "b16854bd",
   "metadata": {},
   "outputs": [
    {
     "name": "stdout",
     "output_type": "stream",
     "text": [
      "suhruth oka pedha ........ manishi \n",
      "\n"
     ]
    }
   ],
   "source": [
    "f = open(\"D:\\\\sample.txt\",\"r\")\n",
    "print(f.readline())"
   ]
  },
  {
   "cell_type": "code",
   "execution_count": 15,
   "id": "41bd3175",
   "metadata": {},
   "outputs": [
    {
     "name": "stdout",
     "output_type": "stream",
     "text": [
      "suhruth oka pedha ........ manishi \n",
      "\n",
      "cococola pepsi balaya babu 6c\n"
     ]
    }
   ],
   "source": [
    "f = open(\"D:\\\\sample.txt\",\"r\")\n",
    "for x in f:\n",
    "  print(x)"
   ]
  },
  {
   "cell_type": "code",
   "execution_count": 16,
   "id": "67f80434",
   "metadata": {},
   "outputs": [
    {
     "name": "stdout",
     "output_type": "stream",
     "text": [
      "suhruth oka pedha ........ manishi \n",
      "\n"
     ]
    }
   ],
   "source": [
    "f = open(\"D:\\\\sample.txt\",\"r\")\n",
    "print(f.readline())\n",
    "f.close()"
   ]
  },
  {
   "cell_type": "code",
   "execution_count": 29,
   "id": "315dbb2a",
   "metadata": {},
   "outputs": [
    {
     "name": "stdout",
     "output_type": "stream",
     "text": [
      "suhruth oka pedha ........ manishi \n",
      "cococola pepsi balaya babu 6cNow the file has more content!Now the file has more content!. Now the file has more content!. Now the file has more content!\n",
      "Now the file has more content!\n",
      " Now the file has more content!\n",
      " Now the file has more content!\n",
      " Now the file has more content!\n",
      " Now the file has more content!\n",
      " Now the file has more content!\n"
     ]
    }
   ],
   "source": [
    "f = open(\"D:\\\\sample.txt  \" ,\"a\")\n",
    "f.write(\"\\n Now the file has more content!\")\n",
    "f.close()\n",
    "\n",
    "f = open(\"D:\\\\sample.txt\",\"r\")\n",
    "print(f.read())"
   ]
  },
  {
   "cell_type": "code",
   "execution_count": 42,
   "id": "94374a01",
   "metadata": {},
   "outputs": [
    {
     "name": "stdout",
     "output_type": "stream",
     "text": [
      "wifi - _its_me_hemu__\n",
      "password - teleyadu \n"
     ]
    }
   ],
   "source": [
    "f = open(\"mustifile\", \"w\")\n",
    "f.write(\"wifi - _its_me_hemu__\\npassword - teleyadu \")\n",
    "f.close()\n",
    "f = open(\"mustifile\", \"r\")\n",
    "print(f.read())"
   ]
  },
  {
   "cell_type": "code",
   "execution_count": null,
   "id": "e2c908fb",
   "metadata": {},
   "outputs": [],
   "source": []
  }
 ],
 "metadata": {
  "kernelspec": {
   "display_name": "Python 3 (ipykernel)",
   "language": "python",
   "name": "python3"
  },
  "language_info": {
   "codemirror_mode": {
    "name": "ipython",
    "version": 3
   },
   "file_extension": ".py",
   "mimetype": "text/x-python",
   "name": "python",
   "nbconvert_exporter": "python",
   "pygments_lexer": "ipython3",
   "version": "3.9.7"
  }
 },
 "nbformat": 4,
 "nbformat_minor": 5
}
