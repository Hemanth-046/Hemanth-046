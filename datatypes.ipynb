{
 "cells": [
  {
   "cell_type": "code",
   "execution_count": null,
   "id": "bd74e704",
   "metadata": {},
   "outputs": [],
   "source": [
    "# converting int to string,float,boolean,complex "
   ]
  },
  {
   "cell_type": "code",
   "execution_count": 6,
   "id": "204b2369",
   "metadata": {},
   "outputs": [
    {
     "name": "stdout",
     "output_type": "stream",
     "text": [
      "<class 'int'>\n",
      "10\n",
      "<class 'str'>\n",
      "10\n",
      "<class 'float'>\n",
      "10.0\n",
      "True\n",
      "<class 'bool'>\n",
      "(10+0j)\n",
      "<class 'complex'>\n"
     ]
    }
   ],
   "source": [
    "a=10\n",
    "print(type(a))\n",
    "print(a)\n",
    "#before conversion\n",
    "b=str(a)\n",
    "print(type(b))\n",
    "print(b)\n",
    "#after conversion\n",
    "c=float(a)\n",
    "print(type(c))\n",
    "print(c)\n",
    "d=bool(a)\n",
    "print(d)\n",
    "print(type(d))\n",
    "e=complex(a)\n",
    "print(e)\n",
    "print(type(e))"
   ]
  },
  {
   "cell_type": "code",
   "execution_count": null,
   "id": "beb7af34",
   "metadata": {},
   "outputs": [],
   "source": [
    "# converting string to int , float , bollean ,complex"
   ]
  },
  {
   "cell_type": "code",
   "execution_count": 5,
   "id": "59e6f5b0",
   "metadata": {},
   "outputs": [
    {
     "name": "stdout",
     "output_type": "stream",
     "text": [
      "<class 'int'>\n",
      "10\n",
      "<class 'int'>\n",
      "10\n",
      "<class 'float'>\n",
      "10.0\n",
      "True\n",
      "<class 'bool'>\n",
      "(10+0j)\n",
      "<class 'complex'>\n"
     ]
    }
   ],
   "source": [
    "a=10\n",
    "print(type(a))\n",
    "print(a)\n",
    "#before conversion\n",
    "b=int(a)\n",
    "print(type(b))\n",
    "print(b)\n",
    "#after conversion\n",
    "c=float(a)\n",
    "print(type(c))\n",
    "print(c)\n",
    "d=bool(a)\n",
    "print(d)\n",
    "print(type(d))\n",
    "e=complex(a)\n",
    "print(e)\n",
    "print(type(e))"
   ]
  },
  {
   "cell_type": "code",
   "execution_count": null,
   "id": "be68b1f6",
   "metadata": {},
   "outputs": [],
   "source": [
    "# converting boolean to int , string , float ,complex"
   ]
  },
  {
   "cell_type": "code",
   "execution_count": 9,
   "id": "e1e4ba42",
   "metadata": {},
   "outputs": [
    {
     "name": "stdout",
     "output_type": "stream",
     "text": [
      "<class 'int'>\n",
      "10\n",
      "<class 'int'>\n",
      "10\n",
      "<class 'str'>\n",
      "10\n",
      "10.0\n",
      "<class 'float'>\n",
      "(10+0j)\n",
      "<class 'complex'>\n"
     ]
    }
   ],
   "source": [
    "a=10\n",
    "print(type(a))\n",
    "print(a)\n",
    "#before conversion\n",
    "b=int(a)\n",
    "print(type(b))\n",
    "print(b)\n",
    "#after conversion\n",
    "c=str(a)\n",
    "print(type(c))\n",
    "print(c)\n",
    "d=float(a)\n",
    "print(d)\n",
    "print(type(d))\n",
    "e=complex(a)\n",
    "print(e)\n",
    "print(type(e))"
   ]
  },
  {
   "cell_type": "code",
   "execution_count": null,
   "id": "41235bdd",
   "metadata": {},
   "outputs": [],
   "source": [
    "#"
   ]
  }
 ],
 "metadata": {
  "kernelspec": {
   "display_name": "Python 3 (ipykernel)",
   "language": "python",
   "name": "python3"
  },
  "language_info": {
   "codemirror_mode": {
    "name": "ipython",
    "version": 3
   },
   "file_extension": ".py",
   "mimetype": "text/x-python",
   "name": "python",
   "nbconvert_exporter": "python",
   "pygments_lexer": "ipython3",
   "version": "3.9.7"
  }
 },
 "nbformat": 4,
 "nbformat_minor": 5
}
