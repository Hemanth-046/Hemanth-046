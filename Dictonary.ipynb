{
  "nbformat": 4,
  "nbformat_minor": 0,
  "metadata": {
    "colab": {
      "name": "Dictonary.ipynb",
      "provenance": [],
      "authorship_tag": "ABX9TyPkHGcY4KhmMGag06s8zXi2",
      "include_colab_link": true
    },
    "kernelspec": {
      "name": "python3",
      "display_name": "Python 3"
    },
    "language_info": {
      "name": "python"
    }
  },
  "cells": [
    {
      "cell_type": "markdown",
      "metadata": {
        "id": "view-in-github",
        "colab_type": "text"
      },
      "source": [
        "<a href=\"https://colab.research.google.com/github/Hemanth-046/Python_Practice/blob/main/Dictonary.ipynb\" target=\"_parent\"><img src=\"https://colab.research.google.com/assets/colab-badge.svg\" alt=\"Open In Colab\"/></a>"
      ]
    },
    {
      "cell_type": "code",
      "execution_count": 9,
      "metadata": {
        "colab": {
          "base_uri": "https://localhost:8080/"
        },
        "id": "u8pl6C6DhDv5",
        "outputId": "95b19607-c3f3-46a3-c1ec-b90737ee0ad8"
      },
      "outputs": [
        {
          "output_type": "stream",
          "name": "stdout",
          "text": [
            "{'name': 'Siva Hemanth', 'age': '17+', 'CGPA': '70', 'phone no': '7989395466', 'section': 'CSE AIML'}\n"
          ]
        }
      ],
      "source": [
        "#placement containing name , age , cgpa , ph no , section\n",
        "placement = {\n",
        "    \"name\":\"Siva Hemanth\",\n",
        "    \"age\":\"17+\",\n",
        "    \"CGPA\":\"70\",\n",
        "    \"phone no\":\"7989395466\",\n",
        "    \"section\":\"CSE AIML\",\n",
        "}\n",
        "print(placement)"
      ]
    },
    {
      "cell_type": "code",
      "source": [
        "#placement containing name , age , cgpa , ph no , section\n",
        "placement = {\n",
        "    \"name\":str(input(\"enter your name \")),\n",
        "    \"age\":int(input(\"enter your age \")),\n",
        "    \"CGPA\":int(input(\"enter your CGPA \")),\n",
        "    \"phone no\":int(input(\"enter your phone number \")),\n",
        "    \"section\":str(input(\"enter your section \"))\n",
        "}\n",
        "print(placement)"
      ],
      "metadata": {
        "id": "hU1bnljDiuPk"
      },
      "execution_count": null,
      "outputs": []
    }
  ]
}