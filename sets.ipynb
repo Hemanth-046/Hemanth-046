{
  "nbformat": 4,
  "nbformat_minor": 0,
  "metadata": {
    "colab": {
      "name": "sets.ipynb",
      "provenance": [],
      "authorship_tag": "ABX9TyM37ScDJfv+6JwvyK5Ff/jK",
      "include_colab_link": true
    },
    "kernelspec": {
      "name": "python3",
      "display_name": "Python 3"
    },
    "language_info": {
      "name": "python"
    }
  },
  "cells": [
    {
      "cell_type": "markdown",
      "metadata": {
        "id": "view-in-github",
        "colab_type": "text"
      },
      "source": [
        "<a href=\"https://colab.research.google.com/github/Hemanth-046/Python_Practice/blob/main/sets.ipynb\" target=\"_parent\"><img src=\"https://colab.research.google.com/assets/colab-badge.svg\" alt=\"Open In Colab\"/></a>"
      ]
    },
    {
      "cell_type": "code",
      "execution_count": null,
      "metadata": {
        "id": "G-KDZ5u5Snyg"
      },
      "outputs": [],
      "source": [
        "# tuple=() , list=[] , set={}"
      ]
    },
    {
      "cell_type": "code",
      "source": [
        "#loops in sets\n",
        "thisset={\"Tony Stark\",\"Buckey\",\"Banner\"}\n",
        "for x in thisset:\n",
        "  print(x)"
      ],
      "metadata": {
        "colab": {
          "base_uri": "https://localhost:8080/"
        },
        "id": "YygPCC3TW9dF",
        "outputId": "5880f849-1eaf-4115-bb77-1ec280b7faaf"
      },
      "execution_count": 1,
      "outputs": [
        {
          "output_type": "stream",
          "name": "stdout",
          "text": [
            "Buckey\n",
            "Tony Stark\n",
            "Banner\n"
          ]
        }
      ]
    },
    {
      "cell_type": "code",
      "source": [
        "#all mix\n",
        "\n",
        "set1 = {\"a\", \"b\", \"c\" }\n",
        "set2 = {1,2,3}\n",
        "\n",
        "set3 = set1.union(set2)\n",
        "print(set3)\n",
        "set1.update(set2)\n",
        "print(set1)\n",
        "set1.intersection_update(set2)\n",
        "set4=set1.intersection(set2)\n",
        "set1.symmetric_difference_update(set1)\n",
        "z = x.symmetric_difference(y)\n",
        "\n",
        "print(z)\n",
        "\n",
        "print(set1)\n",
        "print(set1)\n",
        "print(set4)"
      ],
      "metadata": {
        "colab": {
          "base_uri": "https://localhost:8080/"
        },
        "id": "0eP7yVtST9jP",
        "outputId": "8e33807a-c03f-4e5d-9fcb-66cef7ac81d7"
      },
      "execution_count": 10,
      "outputs": [
        {
          "output_type": "stream",
          "name": "stdout",
          "text": [
            "{1, 2, 3, 'c', 'a', 'b'}\n",
            "{1, 2, 3, 'c', 'a', 'b'}\n",
            "set()\n",
            "set()\n",
            "{1, 2, 3}\n"
          ]
        }
      ]
    },
    {
      "cell_type": "code",
      "source": [
        "#join two sets\n",
        "set1 = {\"a\", \"b\" , \"c\"}\n",
        "set2 = {1, 2, 3}\n",
        "\n",
        "set3 = set1.union(set2)\n",
        "print(set3)\n",
        "set1.update(set2)\n",
        "print(set1)"
      ],
      "metadata": {
        "colab": {
          "base_uri": "https://localhost:8080/"
        },
        "id": "tLuf2zc-cUYH",
        "outputId": "49423ee6-64a3-4aa9-985b-4daef1c1a8a3"
      },
      "execution_count": 11,
      "outputs": [
        {
          "output_type": "stream",
          "name": "stdout",
          "text": [
            "{1, 2, 3, 'c', 'a', 'b'}\n",
            "{1, 2, 3, 'c', 'a', 'b'}\n"
          ]
        }
      ]
    },
    {
      "cell_type": "code",
      "source": [
        "#keeping only duplicates\n",
        "x = {\"apple\", \"banana\", \"cherry\"}\n",
        "y = {\"google\", \"microsoft\", \"apple\"}\n",
        "\n",
        "x.intersection_update(y)\n",
        "print(x)\n",
        "z = x.intersection(y)\n",
        "print(z)\n"
      ],
      "metadata": {
        "colab": {
          "base_uri": "https://localhost:8080/"
        },
        "id": "xJNFaBFecr9r",
        "outputId": "6c066f14-5021-4efa-b3d9-0f3517bc05ba"
      },
      "execution_count": 13,
      "outputs": [
        {
          "output_type": "stream",
          "name": "stdout",
          "text": [
            "{'apple'}\n",
            "{'apple'}\n"
          ]
        }
      ]
    },
    {
      "cell_type": "code",
      "source": [
        "#keeping all but not duplicates\n",
        "x = {\"apple\", \"banana\", \"cherry\"}\n",
        "y = {\"google\", \"microsoft\", \"apple\"}\n",
        "\n",
        "x.symmetric_difference_update(y)\n",
        "print(x)\n",
        "z = x.symmetric_difference(y)\n",
        "print(z)"
      ],
      "metadata": {
        "colab": {
          "base_uri": "https://localhost:8080/"
        },
        "id": "btcAWRWSdAhc",
        "outputId": "f490b4e5-b27e-4950-9342-98a3a19512c3"
      },
      "execution_count": 12,
      "outputs": [
        {
          "output_type": "stream",
          "name": "stdout",
          "text": [
            "{'microsoft', 'cherry', 'google', 'banana'}\n",
            "{'apple', 'cherry', 'banana'}\n"
          ]
        }
      ]
    }
  ]
}